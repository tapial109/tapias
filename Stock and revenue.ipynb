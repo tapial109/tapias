{
 "cells": [
  {
   "cell_type": "markdown",
   "id": "6de333df-5094-4fc5-b8c7-fa354b6d0ab4",
   "metadata": {},
   "source": [
    "## Question 1 - Extracting Tesla Stock Data Using yfinance"
   ]
  },
  {
   "cell_type": "code",
   "execution_count": 8,
   "id": "b78ee51a-7091-4538-a409-053e88db8063",
   "metadata": {},
   "outputs": [
    {
     "data": {
      "text/html": [
       "<div>\n",
       "<style scoped>\n",
       "    .dataframe tbody tr th:only-of-type {\n",
       "        vertical-align: middle;\n",
       "    }\n",
       "\n",
       "    .dataframe tbody tr th {\n",
       "        vertical-align: top;\n",
       "    }\n",
       "\n",
       "    .dataframe thead th {\n",
       "        text-align: right;\n",
       "    }\n",
       "</style>\n",
       "<table border=\"1\" class=\"dataframe\">\n",
       "  <thead>\n",
       "    <tr style=\"text-align: right;\">\n",
       "      <th></th>\n",
       "      <th>Open</th>\n",
       "      <th>High</th>\n",
       "      <th>Low</th>\n",
       "      <th>Close</th>\n",
       "      <th>Volume</th>\n",
       "      <th>Dividends</th>\n",
       "      <th>Stock Splits</th>\n",
       "    </tr>\n",
       "    <tr>\n",
       "      <th>Date</th>\n",
       "      <th></th>\n",
       "      <th></th>\n",
       "      <th></th>\n",
       "      <th></th>\n",
       "      <th></th>\n",
       "      <th></th>\n",
       "      <th></th>\n",
       "    </tr>\n",
       "  </thead>\n",
       "  <tbody>\n",
       "    <tr>\n",
       "      <th>2023-10-10 00:00:00-04:00</th>\n",
       "      <td>257.750000</td>\n",
       "      <td>268.940002</td>\n",
       "      <td>257.649994</td>\n",
       "      <td>263.619995</td>\n",
       "      <td>122656000</td>\n",
       "      <td>0.0</td>\n",
       "      <td>0.0</td>\n",
       "    </tr>\n",
       "    <tr>\n",
       "      <th>2023-10-11 00:00:00-04:00</th>\n",
       "      <td>266.200012</td>\n",
       "      <td>268.600006</td>\n",
       "      <td>260.899994</td>\n",
       "      <td>262.989990</td>\n",
       "      <td>103706300</td>\n",
       "      <td>0.0</td>\n",
       "      <td>0.0</td>\n",
       "    </tr>\n",
       "    <tr>\n",
       "      <th>2023-10-12 00:00:00-04:00</th>\n",
       "      <td>262.920013</td>\n",
       "      <td>265.410004</td>\n",
       "      <td>256.630005</td>\n",
       "      <td>258.869995</td>\n",
       "      <td>111508100</td>\n",
       "      <td>0.0</td>\n",
       "      <td>0.0</td>\n",
       "    </tr>\n",
       "    <tr>\n",
       "      <th>2023-10-13 00:00:00-04:00</th>\n",
       "      <td>258.899994</td>\n",
       "      <td>259.600006</td>\n",
       "      <td>250.220001</td>\n",
       "      <td>251.119995</td>\n",
       "      <td>102073800</td>\n",
       "      <td>0.0</td>\n",
       "      <td>0.0</td>\n",
       "    </tr>\n",
       "    <tr>\n",
       "      <th>2023-10-16 00:00:00-04:00</th>\n",
       "      <td>250.050003</td>\n",
       "      <td>255.399994</td>\n",
       "      <td>248.479996</td>\n",
       "      <td>253.919998</td>\n",
       "      <td>88917200</td>\n",
       "      <td>0.0</td>\n",
       "      <td>0.0</td>\n",
       "    </tr>\n",
       "  </tbody>\n",
       "</table>\n",
       "</div>"
      ],
      "text/plain": [
       "                                 Open        High         Low       Close  \\\n",
       "Date                                                                        \n",
       "2023-10-10 00:00:00-04:00  257.750000  268.940002  257.649994  263.619995   \n",
       "2023-10-11 00:00:00-04:00  266.200012  268.600006  260.899994  262.989990   \n",
       "2023-10-12 00:00:00-04:00  262.920013  265.410004  256.630005  258.869995   \n",
       "2023-10-13 00:00:00-04:00  258.899994  259.600006  250.220001  251.119995   \n",
       "2023-10-16 00:00:00-04:00  250.050003  255.399994  248.479996  253.919998   \n",
       "\n",
       "                              Volume  Dividends  Stock Splits  \n",
       "Date                                                           \n",
       "2023-10-10 00:00:00-04:00  122656000        0.0           0.0  \n",
       "2023-10-11 00:00:00-04:00  103706300        0.0           0.0  \n",
       "2023-10-12 00:00:00-04:00  111508100        0.0           0.0  \n",
       "2023-10-13 00:00:00-04:00  102073800        0.0           0.0  \n",
       "2023-10-16 00:00:00-04:00   88917200        0.0           0.0  "
      ]
     },
     "execution_count": 8,
     "metadata": {},
     "output_type": "execute_result"
    }
   ],
   "source": [
    "import yfinance as yf\n",
    "tesla = yf.Ticker(\"TSLA\")\n",
    "tesla_shares = tesla.history(period=\"1y\")\n",
    "tesla_shares.head()"
   ]
  },
  {
   "cell_type": "markdown",
   "id": "afeb7f5d-1112-467b-a600-9bf4be37017e",
   "metadata": {},
   "source": [
    "## Question 2 - Extracting Tesla Revenue Data Using Webscraping"
   ]
  },
  {
   "cell_type": "code",
   "execution_count": 21,
   "id": "20aebeb9-fd7a-43bc-b1a6-cf0a7d32c15c",
   "metadata": {},
   "outputs": [
    {
     "name": "stdout",
     "output_type": "stream",
     "text": [
      "    Year Revenue\n",
      "8   2013  $2,013\n",
      "9   2012    $413\n",
      "10  2011    $204\n",
      "11  2010    $117\n",
      "12  2009    $112\n"
     ]
    }
   ],
   "source": [
    "import pandas as pd\n",
    "import requests\n",
    "from bs4 import BeautifulSoup\n",
    "url_revenue = \"https://cf-courses-data.s3.us.cloud-object-storage.appdomain.cloud/IBMDeveloperSkillsNetwork-PY0220EN-SkillsNetwork/labs/project/revenue.htm\"\n",
    "data_revenue = requests.get(url_revenue).text\n",
    "soup_revenue = BeautifulSoup(data_revenue, 'html.parser')\n",
    "table = soup_revenue.find('table')\n",
    "revenue_data = []\n",
    "for row in table.find_all('tr')[1:]:  \n",
    "    cols = row.find_all('td')\n",
    "\n",
    "    cols = [col.text.strip() for col in cols]  \n",
    "    revenue_data.append(cols)  \n",
    "tesla_revenue = pd.DataFrame(revenue_data, columns=[\"Year\", \"Revenue\"])\n",
    "print(tesla_revenue.tail())"
   ]
  },
  {
   "cell_type": "markdown",
   "id": "be816d5e-beab-4e28-945a-e173f6cdbc34",
   "metadata": {},
   "source": [
    "## Question 3 - Extracting GameStop Stock Data Using yfinance"
   ]
  },
  {
   "cell_type": "code",
   "execution_count": 10,
   "id": "ed63a4ec-637e-4e11-b8c8-5aefa12b9c36",
   "metadata": {},
   "outputs": [
    {
     "data": {
      "text/html": [
       "<div>\n",
       "<style scoped>\n",
       "    .dataframe tbody tr th:only-of-type {\n",
       "        vertical-align: middle;\n",
       "    }\n",
       "\n",
       "    .dataframe tbody tr th {\n",
       "        vertical-align: top;\n",
       "    }\n",
       "\n",
       "    .dataframe thead th {\n",
       "        text-align: right;\n",
       "    }\n",
       "</style>\n",
       "<table border=\"1\" class=\"dataframe\">\n",
       "  <thead>\n",
       "    <tr style=\"text-align: right;\">\n",
       "      <th></th>\n",
       "      <th>Open</th>\n",
       "      <th>High</th>\n",
       "      <th>Low</th>\n",
       "      <th>Close</th>\n",
       "      <th>Volume</th>\n",
       "      <th>Dividends</th>\n",
       "      <th>Stock Splits</th>\n",
       "    </tr>\n",
       "    <tr>\n",
       "      <th>Date</th>\n",
       "      <th></th>\n",
       "      <th></th>\n",
       "      <th></th>\n",
       "      <th></th>\n",
       "      <th></th>\n",
       "      <th></th>\n",
       "      <th></th>\n",
       "    </tr>\n",
       "  </thead>\n",
       "  <tbody>\n",
       "    <tr>\n",
       "      <th>2023-10-10 00:00:00-04:00</th>\n",
       "      <td>15.50</td>\n",
       "      <td>16.190001</td>\n",
       "      <td>15.40</td>\n",
       "      <td>16.00</td>\n",
       "      <td>2915900</td>\n",
       "      <td>0.0</td>\n",
       "      <td>0.0</td>\n",
       "    </tr>\n",
       "    <tr>\n",
       "      <th>2023-10-11 00:00:00-04:00</th>\n",
       "      <td>16.01</td>\n",
       "      <td>16.090000</td>\n",
       "      <td>15.74</td>\n",
       "      <td>15.82</td>\n",
       "      <td>2098200</td>\n",
       "      <td>0.0</td>\n",
       "      <td>0.0</td>\n",
       "    </tr>\n",
       "    <tr>\n",
       "      <th>2023-10-12 00:00:00-04:00</th>\n",
       "      <td>15.77</td>\n",
       "      <td>15.800000</td>\n",
       "      <td>14.82</td>\n",
       "      <td>15.09</td>\n",
       "      <td>3180300</td>\n",
       "      <td>0.0</td>\n",
       "      <td>0.0</td>\n",
       "    </tr>\n",
       "    <tr>\n",
       "      <th>2023-10-13 00:00:00-04:00</th>\n",
       "      <td>14.92</td>\n",
       "      <td>15.110000</td>\n",
       "      <td>14.78</td>\n",
       "      <td>14.92</td>\n",
       "      <td>1823300</td>\n",
       "      <td>0.0</td>\n",
       "      <td>0.0</td>\n",
       "    </tr>\n",
       "    <tr>\n",
       "      <th>2023-10-16 00:00:00-04:00</th>\n",
       "      <td>14.81</td>\n",
       "      <td>14.930000</td>\n",
       "      <td>14.15</td>\n",
       "      <td>14.43</td>\n",
       "      <td>3508600</td>\n",
       "      <td>0.0</td>\n",
       "      <td>0.0</td>\n",
       "    </tr>\n",
       "  </tbody>\n",
       "</table>\n",
       "</div>"
      ],
      "text/plain": [
       "                            Open       High    Low  Close   Volume  Dividends  \\\n",
       "Date                                                                            \n",
       "2023-10-10 00:00:00-04:00  15.50  16.190001  15.40  16.00  2915900        0.0   \n",
       "2023-10-11 00:00:00-04:00  16.01  16.090000  15.74  15.82  2098200        0.0   \n",
       "2023-10-12 00:00:00-04:00  15.77  15.800000  14.82  15.09  3180300        0.0   \n",
       "2023-10-13 00:00:00-04:00  14.92  15.110000  14.78  14.92  1823300        0.0   \n",
       "2023-10-16 00:00:00-04:00  14.81  14.930000  14.15  14.43  3508600        0.0   \n",
       "\n",
       "                           Stock Splits  \n",
       "Date                                     \n",
       "2023-10-10 00:00:00-04:00           0.0  \n",
       "2023-10-11 00:00:00-04:00           0.0  \n",
       "2023-10-12 00:00:00-04:00           0.0  \n",
       "2023-10-13 00:00:00-04:00           0.0  \n",
       "2023-10-16 00:00:00-04:00           0.0  "
      ]
     },
     "execution_count": 10,
     "metadata": {},
     "output_type": "execute_result"
    }
   ],
   "source": [
    "import yfinance as yf\n",
    "Gs = yf.Ticker(\"GME\")\n",
    "Gs_shares = Gs.history(period=\"1y\")\n",
    "Gs_shares.head()"
   ]
  },
  {
   "cell_type": "markdown",
   "id": "4a338b25-ae2e-4375-a58f-40f2352558bf",
   "metadata": {},
   "source": [
    "## Question 4 - Extracting GameStop Revenue Data Using Webscraping"
   ]
  },
  {
   "cell_type": "code",
   "execution_count": 42,
   "id": "09162c8a-79f7-42f9-88fa-51d4e7e404d2",
   "metadata": {},
   "outputs": [
    {
     "name": "stdout",
     "output_type": "stream",
     "text": [
      "    Year  Revenue\n",
      "19  2005  $3.09 B\n",
      "20  2004  $1.84 B\n",
      "21  2003  $1.57 B\n",
      "22  2002  $1.35 B\n",
      "23  2001  $1.12 B\n"
     ]
    }
   ],
   "source": [
    "import pandas as pd\n",
    "import requests\n",
    "from bs4 import BeautifulSoup\n",
    "\n",
    "url_gme_revenue = \"https://companiesmarketcap.com/gamestop/revenue/\"\n",
    "data_gme_revenue = requests.get(url_gme_revenue).text\n",
    "soup_gme_revenue = BeautifulSoup(data_gme_revenue, 'html.parser')\n",
    "table = soup_gme_revenue.find('table')\n",
    "if table is None:\n",
    "    print(\"Table not found on the page. Please check the URL or table structure.\")\n",
    "else:\n",
    "    revenue_data_gme = []\n",
    "    for row in table.find_all('tr')[1:]:  # Skip the header row\n",
    "        cols = row.find_all('td')\n",
    "        if len(cols) >= 2:  \n",
    "            year = cols[0].text.strip()  \n",
    "            revenue = cols[1].text.strip()  \n",
    "            revenue_data_gme.append([year, revenue])\n",
    "\n",
    "    # Create a DataFrame from the list of revenue data\n",
    "    gme_revenue = pd.DataFrame(revenue_data_gme, columns=[\"Year\", \"Revenue\"])\n",
    "\n",
    "    # Display the last five rows of the gme_revenue DataFrame\n",
    "    print(gme_revenue.tail())"
   ]
  },
  {
   "cell_type": "markdown",
   "id": "808ef2ad-d606-4971-8fe2-e6b36c7ca5e5",
   "metadata": {},
   "source": [
    "## Question 5 - Tesla Stock and Revenue Dashboard "
   ]
  },
  {
   "cell_type": "code",
   "execution_count": 48,
   "id": "c8a9f54e-a253-4156-9f68-0aaf331836d2",
   "metadata": {},
   "outputs": [
    {
     "ename": "AttributeError",
     "evalue": "'Ticker' object has no attribute 'reset_index'",
     "output_type": "error",
     "traceback": [
      "\u001b[0;31m---------------------------------------------------------------------------\u001b[0m",
      "\u001b[0;31mAttributeError\u001b[0m                            Traceback (most recent call last)",
      "Cell \u001b[0;32mIn[48], line 1\u001b[0m\n\u001b[0;32m----> 1\u001b[0m \u001b[43mtesla\u001b[49m\u001b[38;5;241;43m.\u001b[39;49m\u001b[43mreset_index\u001b[49m(inplace\u001b[38;5;241m=\u001b[39m\u001b[38;5;28;01mTrue\u001b[39;00m)\n",
      "\u001b[0;31mAttributeError\u001b[0m: 'Ticker' object has no attribute 'reset_index'"
     ]
    }
   ],
   "source": [
    "tesla.reset_index(inplace=True)"
   ]
  },
  {
   "cell_type": "code",
   "execution_count": 49,
   "id": "e929d678-7fe0-4d88-9466-0fae086c77cf",
   "metadata": {},
   "outputs": [
    {
     "data": {
      "text/plain": [
       "<Axes: xlabel='Date'>"
      ]
     },
     "execution_count": 49,
     "metadata": {},
     "output_type": "execute_result"
    },
    {
     "data": {
      "image/png": "[encoded data removed]",
      "text/plain": [
       "<Figure size 640x480 with 1 Axes>"
      ]
     },
     "metadata": {},
     "output_type": "display_data"
    }
   ],
   "source": [
    "tesla_shares.plot(x=\"Date\", y=\"Open\")"
   ]
  },
  {
   "cell_type": "markdown",
   "id": "3491f5d8-b3f0-4714-ac09-4f5882dedb1b",
   "metadata": {},
   "source": [
    "## Question 6 - GameStop Stock and Revenue Dashboard"
   ]
  },
  {
   "cell_type": "code",
   "execution_count": 50,
   "id": "43a5521e-f094-459d-9c4a-ed3aa52e66ef",
   "metadata": {},
   "outputs": [],
   "source": [
    "Gs_shares.reset_index(inplace=True)"
   ]
  },
  {
   "cell_type": "code",
   "execution_count": 52,
   "id": "0e5b66a8-8dd3-4aad-83c5-5da09ddc8090",
   "metadata": {},
   "outputs": [
    {
     "data": {
      "text/plain": [
       "<Axes: xlabel='Date'>"
      ]
     },
     "execution_count": 52,
     "metadata": {},
     "output_type": "execute_result"
    },
    {
     "data": {
      "image/png": "[encoded data removed]",
      "text/plain": [
       "<Figure size 640x480 with 1 Axes>"
      ]
     },
     "metadata": {},
     "output_type": "display_data"
    }
   ],
   "source": [
    "Gs_shares.plot(x=\"Date\", y=\"Open\")"
   ]
  }
 ],
 "metadata": {
  "kernelspec": {
   "display_name": "Python 3 (ipykernel)",
   "language": "python",
   "name": "python3"
  },
  "language_info": {
   "codemirror_mode": {
    "name": "ipython",
    "version": 3
   },
   "file_extension": ".py",
   "mimetype": "text/x-python",
   "name": "python",
   "nbconvert_exporter": "python",
   "pygments_lexer": "ipython3",
   "version": "3.11.9"
  }
 },
 "nbformat": 4,
 "nbformat_minor": 5
}
